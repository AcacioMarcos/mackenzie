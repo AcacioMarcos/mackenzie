{
 "cells": [
  {
   "cell_type": "markdown",
   "id": "7d6a5975",
   "metadata": {},
   "source": [
    "Carga de Bibliotecas"
   ]
  },
  {
   "cell_type": "code",
   "execution_count": 1,
   "id": "1b0966da",
   "metadata": {},
   "outputs": [],
   "source": [
    "\n",
    "import pandas as pd\n",
    "import requests\n",
    "from bs4 import BeautifulSoup\n"
   ]
  },
  {
   "cell_type": "markdown",
   "id": "90513d0b",
   "metadata": {},
   "source": [
    "Carga de dados"
   ]
  },
  {
   "cell_type": "code",
   "execution_count": 2,
   "id": "be720cd0",
   "metadata": {},
   "outputs": [
    {
     "name": "stdout",
     "output_type": "stream",
     "text": [
      "Requisição bem sucedida!\n"
     ]
    }
   ],
   "source": [
    "req = requests.get('https://www.basketball-reference.com/leagues/NBA_2018_totals.html')\n",
    "if req.status_code == 200:\n",
    "    print('Requisição bem sucedida!')\n",
    "    content = req.content\n"
   ]
  },
  {
   "cell_type": "markdown",
   "id": "e977b8d5",
   "metadata": {},
   "source": [
    "Tabulação de dados"
   ]
  },
  {
   "cell_type": "code",
   "execution_count": 3,
   "id": "1b6039c9",
   "metadata": {},
   "outputs": [],
   "source": [
    "soup = BeautifulSoup(content, 'html.parser')\n",
    "table = soup.find(name='table')"
   ]
  },
  {
   "cell_type": "markdown",
   "id": "1873086c",
   "metadata": {},
   "source": [
    "DataFrame Pandas"
   ]
  },
  {
   "cell_type": "code",
   "execution_count": 5,
   "id": "7cefd2ff",
   "metadata": {},
   "outputs": [],
   "source": [
    "table_str = str(table)\n",
    "df = pd.read_html(table_str)[0]"
   ]
  },
  {
   "cell_type": "markdown",
   "id": "0dfb5121",
   "metadata": {},
   "source": [
    "Atuacao nos dados"
   ]
  },
  {
   "cell_type": "code",
   "execution_count": 6,
   "id": "54635cfb",
   "metadata": {},
   "outputs": [],
   "source": [
    "table = soup.find(name='table', attrs={'id':'confs_standings_W'})"
   ]
  },
  {
   "cell_type": "markdown",
   "id": "cbe9d157",
   "metadata": {},
   "source": [
    "Dados de duas temporadas"
   ]
  },
  {
   "cell_type": "code",
   "execution_count": 39,
   "id": "c9698781",
   "metadata": {},
   "outputs": [
    {
     "name": "stdout",
     "output_type": "stream",
     "text": [
      "Extraindo ano 2013\n",
      "Extraindo ano 2014\n",
      "Extraindo ano 2015\n",
      "Extraindo ano 2016\n",
      "Extraindo ano 2017\n",
      "Extraindo ano 2018\n",
      "Extraindo ano 2019\n",
      "Extraindo ano 2020\n"
     ]
    }
   ],
   "source": [
    "def scrape_stats(base_url, year_start, year_end):\n",
    "    years = range(year_start,year_end+1,1)\n",
    "\n",
    "    final_df = pd.DataFrame()\n",
    "\n",
    "    for year in years:\n",
    "        print('Extraindo ano {}'.format(year))\n",
    "        req_url = base_url.format(year)\n",
    "        req = requests.get(req_url)\n",
    "        soup = BeautifulSoup(req.content, 'html.parser')\n",
    "        table = soup.find('table', {'id':'totals_stats'})\n",
    "        df = pd.read_html(str(table))[0]\n",
    "        df['Year'] = year\n",
    "        final_df = final_df.append(df)\n",
    "    return final_df\n",
    "url = 'https://www.basketball-reference.com/leagues/NBA_{}_totals.html'\n",
    "df = scrape_stats(url, 2013, 2020)"
   ]
  },
  {
   "cell_type": "markdown",
   "id": "5c73b2c6",
   "metadata": {},
   "source": [
    "Limpeza Inicial"
   ]
  },
  {
   "cell_type": "code",
   "execution_count": 32,
   "id": "46e5a64e",
   "metadata": {},
   "outputs": [],
   "source": [
    "drop_indexes = df[df['Rk'] == 'Rk'].index # Pega indexes onde a coluna 'Rk' possui valor 'Rk'\n",
    "df.drop(drop_indexes, inplace=True) # elimina os valores dos index passados da tabela"
   ]
  },
  {
   "cell_type": "markdown",
   "id": "263e65e0",
   "metadata": {},
   "source": [
    "Conversao Valores"
   ]
  },
  {
   "cell_type": "code",
   "execution_count": 33,
   "id": "f8405825",
   "metadata": {},
   "outputs": [],
   "source": [
    "numeric_cols = df.columns.drop(['Player','Pos','Tm'])\n",
    "df[numeric_cols] = df[numeric_cols].apply(pd.to_numeric)"
   ]
  },
  {
   "cell_type": "markdown",
   "id": "74acdbbb",
   "metadata": {},
   "source": [
    "Importanto biblioteca para grafico"
   ]
  },
  {
   "cell_type": "code",
   "execution_count": 34,
   "id": "a10f79c8",
   "metadata": {},
   "outputs": [],
   "source": [
    "import matplotlib.pyplot as plt\n",
    "import seaborn as sns\n",
    "sns.set_theme(style=\"whitegrid\")"
   ]
  },
  {
   "cell_type": "markdown",
   "id": "382d321a",
   "metadata": {},
   "source": [
    "Gerando grafico"
   ]
  },
  {
   "cell_type": "code",
   "execution_count": 41,
   "id": "8a245456",
   "metadata": {},
   "outputs": [
    {
     "data": {
      "text/plain": [
       "<AxesSubplot:xlabel='Year', ylabel='3P'>"
      ]
     },
     "execution_count": 41,
     "metadata": {},
     "output_type": "execute_result"
    },
    {
     "data": {
      "image/png": "[encoded data removed]",
      "text/plain": [
       "<Figure size 432x288 with 1 Axes>"
      ]
     },
     "metadata": {},
     "output_type": "display_data"
    }
   ],
   "source": [
    "df.reset_index(inplace=True)\n",
    "sns.lineplot(x='Year', y='3P', data=df)"
   ]
  },
  {
   "cell_type": "markdown",
   "id": "731e1b95",
   "metadata": {},
   "source": [
    "Top 5 arremessos"
   ]
  },
  {
   "cell_type": "code",
   "execution_count": 18,
   "id": "b4a47a6f",
   "metadata": {},
   "outputs": [
    {
     "data": {
      "text/html": [
       "<div>\n",
       "<style scoped>\n",
       "    .dataframe tbody tr th:only-of-type {\n",
       "        vertical-align: middle;\n",
       "    }\n",
       "\n",
       "    .dataframe tbody tr th {\n",
       "        vertical-align: top;\n",
       "    }\n",
       "\n",
       "    .dataframe thead th {\n",
       "        text-align: right;\n",
       "    }\n",
       "</style>\n",
       "<table border=\"1\" class=\"dataframe\">\n",
       "  <thead>\n",
       "    <tr style=\"text-align: right;\">\n",
       "      <th></th>\n",
       "      <th>Player</th>\n",
       "      <th>3P</th>\n",
       "      <th>Year</th>\n",
       "    </tr>\n",
       "  </thead>\n",
       "  <tbody>\n",
       "    <tr>\n",
       "      <th>121</th>\n",
       "      <td>Stephen Curry</td>\n",
       "      <td>402</td>\n",
       "      <td>2016</td>\n",
       "    </tr>\n",
       "    <tr>\n",
       "      <th>124</th>\n",
       "      <td>Stephen Curry</td>\n",
       "      <td>324</td>\n",
       "      <td>2017</td>\n",
       "    </tr>\n",
       "    <tr>\n",
       "      <th>140</th>\n",
       "      <td>Stephen Curry</td>\n",
       "      <td>286</td>\n",
       "      <td>2015</td>\n",
       "    </tr>\n",
       "    <tr>\n",
       "      <th>123</th>\n",
       "      <td>Stephen Curry</td>\n",
       "      <td>272</td>\n",
       "      <td>2013</td>\n",
       "    </tr>\n",
       "    <tr>\n",
       "      <th>543</th>\n",
       "      <td>Klay Thompson</td>\n",
       "      <td>268</td>\n",
       "      <td>2017</td>\n",
       "    </tr>\n",
       "  </tbody>\n",
       "</table>\n",
       "</div>"
      ],
      "text/plain": [
       "            Player   3P  Year\n",
       "121  Stephen Curry  402  2016\n",
       "124  Stephen Curry  324  2017\n",
       "140  Stephen Curry  286  2015\n",
       "123  Stephen Curry  272  2013\n",
       "543  Klay Thompson  268  2017"
      ]
     },
     "execution_count": 18,
     "metadata": {},
     "output_type": "execute_result"
    }
   ],
   "source": [
    "sorted_df = df.sort_values(by=['3P'], axis=0, ascending=False)\n",
    "sorted_df[['Player', '3P', 'Year']].head()"
   ]
  },
  {
   "cell_type": "markdown",
   "id": "45c11576",
   "metadata": {},
   "source": [
    "Adição de mais alguns elementos"
   ]
  },
  {
   "cell_type": "code",
   "execution_count": 19,
   "id": "1e088c1d",
   "metadata": {},
   "outputs": [
    {
     "data": {
      "text/html": [
       "<div>\n",
       "<style scoped>\n",
       "    .dataframe tbody tr th:only-of-type {\n",
       "        vertical-align: middle;\n",
       "    }\n",
       "\n",
       "    .dataframe tbody tr th {\n",
       "        vertical-align: top;\n",
       "    }\n",
       "\n",
       "    .dataframe thead th {\n",
       "        text-align: right;\n",
       "    }\n",
       "</style>\n",
       "<table border=\"1\" class=\"dataframe\">\n",
       "  <thead>\n",
       "    <tr style=\"text-align: right;\">\n",
       "      <th></th>\n",
       "      <th>Player</th>\n",
       "      <th>3P</th>\n",
       "      <th>3PA</th>\n",
       "    </tr>\n",
       "  </thead>\n",
       "  <tbody>\n",
       "    <tr>\n",
       "      <th>792</th>\n",
       "      <td>Stephen Curry</td>\n",
       "      <td>1496</td>\n",
       "      <td>3422</td>\n",
       "    </tr>\n",
       "    <tr>\n",
       "      <th>369</th>\n",
       "      <td>James Harden</td>\n",
       "      <td>1327</td>\n",
       "      <td>3659</td>\n",
       "    </tr>\n",
       "    <tr>\n",
       "      <th>530</th>\n",
       "      <td>Kyle Korver</td>\n",
       "      <td>1241</td>\n",
       "      <td>2746</td>\n",
       "    </tr>\n",
       "    <tr>\n",
       "      <th>517</th>\n",
       "      <td>Klay Thompson</td>\n",
       "      <td>1170</td>\n",
       "      <td>2774</td>\n",
       "    </tr>\n",
       "    <tr>\n",
       "      <th>170</th>\n",
       "      <td>Damian Lillard</td>\n",
       "      <td>1051</td>\n",
       "      <td>2893</td>\n",
       "    </tr>\n",
       "  </tbody>\n",
       "</table>\n",
       "</div>"
      ],
      "text/plain": [
       "             Player    3P   3PA\n",
       "792   Stephen Curry  1496  3422\n",
       "369    James Harden  1327  3659\n",
       "530     Kyle Korver  1241  2746\n",
       "517   Klay Thompson  1170  2774\n",
       "170  Damian Lillard  1051  2893"
      ]
     },
     "execution_count": 19,
     "metadata": {},
     "output_type": "execute_result"
    }
   ],
   "source": [
    "grouped_df = df.groupby('Player', as_index=False).sum()\n",
    "sorted_df = grouped_df.sort_values(by=['3P'], axis=0, ascending=False)\n",
    "sorted_df[['Player', '3P', '3PA']].head()"
   ]
  }
 ],
 "metadata": {
  "kernelspec": {
   "display_name": "Python 3",
   "language": "python",
   "name": "python3"
  },
  "language_info": {
   "codemirror_mode": {
    "name": "ipython",
    "version": 3
   },
   "file_extension": ".py",
   "mimetype": "text/x-python",
   "name": "python",
   "nbconvert_exporter": "python",
   "pygments_lexer": "ipython3",
   "version": "3.8.8"
  }
 },
 "nbformat": 4,
 "nbformat_minor": 5
}
