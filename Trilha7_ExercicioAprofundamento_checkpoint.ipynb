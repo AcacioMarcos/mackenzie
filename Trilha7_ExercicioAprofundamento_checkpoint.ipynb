{
  "nbformat": 4,
  "nbformat_minor": 0,
  "metadata": {
    "kernelspec": {
      "display_name": "R",
      "language": "R",
      "name": "ir"
    },
    "language_info": {
      "codemirror_mode": "r",
      "file_extension": ".r",
      "mimetype": "text/x-r-source",
      "name": "R",
      "pygments_lexer": "r",
      "version": "4.1.0"
    },
    "colab": {
      "name": "Trilha7_ExercicioAprofundamento-checkpoint.ipynb",
      "provenance": [],
      "include_colab_link": true
    }
  },
  "cells": [
    {
      "cell_type": "markdown",
      "metadata": {
        "id": "view-in-github",
        "colab_type": "text"
      },
      "source": [
        "<a href=\"https://colab.research.google.com/github/AcacioMarcos/mackenzie/blob/paradigmas/Trilha7_ExercicioAprofundamento_checkpoint.ipynb\" target=\"_parent\"><img src=\"https://colab.research.google.com/assets/colab-badge.svg\" alt=\"Open In Colab\"/></a>"
      ]
    },
    {
      "cell_type": "markdown",
      "metadata": {
        "id": "zg1NKPpZOfzS"
      },
      "source": [
        "## Exercício de Aprofundamento - Trilha 7 "
      ]
    },
    {
      "cell_type": "markdown",
      "metadata": {
        "id": "Yam3RrfyOfzW"
      },
      "source": [
        "Faça as manipulações e explorações visuais de acordo com as perguntas que precisam ser respondidas"
      ]
    },
    {
      "cell_type": "markdown",
      "metadata": {
        "id": "L7I3tU6YyRVs"
      },
      "source": [
        "### Link dos arquivos\n",
        "\n",
        "Google Colab: https://colab.research.google.com/drive/1y8rhRLuhR_RjIw8XGNkclWZkAZXKIaGT?usp=sharing\n",
        "\n",
        "Github: \n",
        "\n",
        "Google Drive: https://drive.google.com/drive/folders/1k6L6gXM4Wggd-7xFawCQfOvSIANbCzzc?usp=sharing"
      ]
    },
    {
      "cell_type": "markdown",
      "metadata": {
        "id": "562zuJtwYhJS"
      },
      "source": [
        "#### Desafios de manipulação de dados "
      ]
    },
    {
      "cell_type": "markdown",
      "metadata": {
        "id": "4GX8n_3FYrQq"
      },
      "source": [
        "Com base no dataset específico **pontuacaoJogadas**, apresente os dados somente quando ouve *rush* ou *pass* na jogada. Garanta que exista também o nome ou abreviatura do time que está atacando (variável *posteam*), além dos nomes dos jogadores que estão fazendo passe,  correndo ou recebendo a bola (variáveis *passer*, *rusher* e *receiver*)"
      ]
    },
    {
      "cell_type": "code",
      "metadata": {
        "id": "2heHAQg1OfzW"
      },
      "source": [
        "manipulacao_rush_pass <- pontuacaoJogadas %>%\n",
        "    filter(rush == '1' | pass == '1') %>%\n",
        "    select(play_id, posteam, rush, pass, passer, rusher, receiver)\n",
        "\n",
        "manipulacao_rush_pass"
      ],
      "execution_count": null,
      "outputs": []
    },
    {
      "cell_type": "markdown",
      "metadata": {
        "id": "73XwFgqzYy-n"
      },
      "source": [
        "Utilizando o subconjunto de dados **acoesJogadas** e **pontuacaoJogadas**, crie uma análise que retorne qual foi o jogador que conquistou mais jardas no terceiro quarto."
      ]
    },
    {
      "cell_type": "code",
      "metadata": {
        "id": "iiMqj2mIY0Xg"
      },
      "source": [
        "acoes_pontuacoes <- pontuacaoJogadas %>% \n",
        "    inner_join(acoesJogadas, by='play_id') %>% \n",
        "    select(name, yards_gained, qtr) %>% \n",
        "    filter(qtr == 3) %>% \n",
        "    group_by(name) %>%\n",
        "    mutate(jardas_ganhas = sum(yards_gained))%>%\n",
        "    select(name, jardas_ganhas) %>%\n",
        "    unique() %>%\n",
        "    arrange(jardas_ganhas)\n",
        "   \n",
        "acoes_pontuacoes"
      ],
      "execution_count": null,
      "outputs": []
    },
    {
      "cell_type": "markdown",
      "metadata": {
        "id": "AR2Ykg7Nkapo"
      },
      "source": [
        "#### Desafio de geração de gráfico  "
      ]
    },
    {
      "cell_type": "markdown",
      "metadata": {
        "id": "Q-4QuplbkdDO"
      },
      "source": [
        "Crie um gráfico de linhas, mostrando a pontuação de cada time em cada *quarter*. O resultado deve ter duas linhas, uma para cada time, e cada linha será composta pela pontuação de cada um dos *quarters* sendo uma cor para cada time. O eixo X terá os *quarters* e o eixo y terá a pontuação."
      ]
    },
    {
      "cell_type": "code",
      "metadata": {
        "id": "gg9vt0pbkebE"
      },
      "source": [
        ""
      ],
      "execution_count": null,
      "outputs": []
    }
  ]
}